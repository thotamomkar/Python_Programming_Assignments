{
 "cells": [
  {
   "cell_type": "markdown",
   "id": "4297f58a",
   "metadata": {},
   "source": [
    "1.Write a Python program to convert kilometers to miles?"
   ]
  },
  {
   "cell_type": "code",
   "execution_count": null,
   "id": "e66b396c",
   "metadata": {},
   "outputs": [],
   "source": [
    "km=float(input(\"Enter the value of Kilometers:\"))\n",
    "mi=km/1.60934\n",
    "print(\"The Value in miles is:\",round(mi,2))"
   ]
  },
  {
   "cell_type": "markdown",
   "id": "2002c176",
   "metadata": {},
   "source": [
    "2.Write a Python program to convert Celsius to Fahrenheit?"
   ]
  },
  {
   "cell_type": "code",
   "execution_count": null,
   "id": "9bfb4f3a",
   "metadata": {},
   "outputs": [],
   "source": [
    "cel=float(input(\"Enter the temperature in Celsius:\"))\n",
    "far=cel*1.8+32\n",
    "print(\"Temperature in Fahrenheit:\",round(far,1))"
   ]
  },
  {
   "cell_type": "markdown",
   "id": "514709df",
   "metadata": {},
   "source": [
    "3.Write a Python program to display calendar?"
   ]
  },
  {
   "cell_type": "code",
   "execution_count": null,
   "id": "ad9cc9c3",
   "metadata": {},
   "outputs": [],
   "source": [
    "import calendar\n",
    "year=int(input(\"Enter the year in YYYY format: \"))\n",
    "month=int(input(\"Enter the month in MM format: \"))\n",
    "print(calendar.month(year,month))"
   ]
  },
  {
   "cell_type": "markdown",
   "id": "53476ab2",
   "metadata": {},
   "source": [
    "4.Write a Python program to solve quadratic equation?"
   ]
  },
  {
   "cell_type": "markdown",
   "id": "d2918390",
   "metadata": {},
   "source": [
    "5.Write a Python program to swap two variables without temp variable?"
   ]
  },
  {
   "cell_type": "code",
   "execution_count": null,
   "id": "36fc44b0",
   "metadata": {},
   "outputs": [],
   "source": [
    "a=int(input(\"Enter value for a: \"))\n",
    "b=int(input(\"Enter value for b: \"))\n",
    "print(\"Values before swapping are a:\",a,\"b:\",b)\n",
    "a,b=b,a\n",
    "print(\"Values after swapping are a:\",a,\"b:\",b)"
   ]
  }
 ],
 "metadata": {
  "kernelspec": {
   "display_name": "Python 3 (ipykernel)",
   "language": "python",
   "name": "python3"
  },
  "language_info": {
   "codemirror_mode": {
    "name": "ipython",
    "version": 3
   },
   "file_extension": ".py",
   "mimetype": "text/x-python",
   "name": "python",
   "nbconvert_exporter": "python",
   "pygments_lexer": "ipython3",
   "version": "3.9.12"
  }
 },
 "nbformat": 4,
 "nbformat_minor": 5
}
