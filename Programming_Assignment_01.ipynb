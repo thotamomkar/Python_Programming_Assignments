{
 "cells": [
  {
   "cell_type": "markdown",
   "id": "f34cba4f",
   "metadata": {},
   "source": [
    "1. Write a Python program to print \"Hello Python\"?"
   ]
  },
  {
   "cell_type": "code",
   "execution_count": null,
   "id": "2a0af66d",
   "metadata": {},
   "outputs": [],
   "source": [
    "print(\"Hello Python\")"
   ]
  },
  {
   "cell_type": "markdown",
   "id": "2a427c9f",
   "metadata": {},
   "source": [
    "2. Write a Python program to do arithmetical operations addition and division.?"
   ]
  },
  {
   "cell_type": "code",
   "execution_count": null,
   "id": "f44bc0d1",
   "metadata": {},
   "outputs": [],
   "source": [
    "a=int(input(\"Enter value for a: \"))\n",
    "b=int(input(\"Enter value for b: \"))\n",
    "add=a+b\n",
    "div=a/b\n",
    "print(\"Addition=\",add,\"Division=\",div)"
   ]
  },
  {
   "cell_type": "markdown",
   "id": "01912474",
   "metadata": {},
   "source": [
    "3. Write a Python program to find the area of a triangle?"
   ]
  },
  {
   "cell_type": "code",
   "execution_count": null,
   "id": "2875f2a4",
   "metadata": {},
   "outputs": [],
   "source": [
    "base=float(input(\"Enter the base of the triangle(centimetres): \"))\n",
    "height=float(input(\"Enter the height of the triangle(centimetre): \"))\n",
    "area=(height*base)/2\n",
    "print(\"Area of Triangle is:\",area,\"sq.cm\")"
   ]
  },
  {
   "cell_type": "markdown",
   "id": "926519af",
   "metadata": {},
   "source": [
    "4. Write a Python program to swap two variables?"
   ]
  },
  {
   "cell_type": "code",
   "execution_count": null,
   "id": "aa15c61a",
   "metadata": {},
   "outputs": [],
   "source": [
    "a=int(input(\"Enter value for a: \"))\n",
    "b=int(input(\"Enter value for b: \"))\n",
    "print(\"Values before swapping are a:\",a,\"b:\",b)\n",
    "a=a+b\n",
    "b=a-b\n",
    "a=a-b\n",
    "print(\"Values after swapping are a:\",a,\"b:\",b)"
   ]
  },
  {
   "cell_type": "markdown",
   "id": "71450b77",
   "metadata": {},
   "source": [
    "5. Write a Python program to generate a random number?"
   ]
  },
  {
   "cell_type": "code",
   "execution_count": null,
   "id": "5ecdd430",
   "metadata": {},
   "outputs": [],
   "source": [
    "import random\n",
    "print(random.randint(0,1000))"
   ]
  }
 ],
 "metadata": {
  "kernelspec": {
   "display_name": "Python 3 (ipykernel)",
   "language": "python",
   "name": "python3"
  },
  "language_info": {
   "codemirror_mode": {
    "name": "ipython",
    "version": 3
   },
   "file_extension": ".py",
   "mimetype": "text/x-python",
   "name": "python",
   "nbconvert_exporter": "python",
   "pygments_lexer": "ipython3",
   "version": "3.9.12"
  }
 },
 "nbformat": 4,
 "nbformat_minor": 5
}
