{
 "cells": [
  {
   "cell_type": "raw",
   "id": "c7353002",
   "metadata": {},
   "source": [
    "1. Write a Python program to print \"Hello Python\"?"
   ]
  },
  {
   "cell_type": "code",
   "execution_count": 1,
   "id": "1db9418f",
   "metadata": {},
   "outputs": [
    {
     "name": "stdout",
     "output_type": "stream",
     "text": [
      "Hello Python\n"
     ]
    }
   ],
   "source": [
    "print(\"Hello Python\")"
   ]
  },
  {
   "cell_type": "raw",
   "id": "40d3fc5d",
   "metadata": {},
   "source": [
    "2. Write a Python program to do arithmetical operations addition and division.?"
   ]
  },
  {
   "cell_type": "code",
   "execution_count": 3,
   "id": "8997edac",
   "metadata": {},
   "outputs": [
    {
     "name": "stdout",
     "output_type": "stream",
     "text": [
      "Enter value for a: 20\n",
      "Enter value for b: 4\n",
      " Addition= 24 Division= 5.0\n"
     ]
    }
   ],
   "source": [
    "a=int(input(\"Enter value for a: \"))\n",
    "b=int(input(\"Enter value for b: \"))\n",
    "add=a+b\n",
    "div=a/b\n",
    "print(\"Addition=\",add,\"Division=\",div)"
   ]
  },
  {
   "cell_type": "raw",
   "id": "aef736c5",
   "metadata": {},
   "source": [
    "3. Write a Python program to find the area of a triangle?"
   ]
  },
  {
   "cell_type": "code",
   "execution_count": 12,
   "id": "682ca645",
   "metadata": {},
   "outputs": [
    {
     "name": "stdout",
     "output_type": "stream",
     "text": [
      "Enter the base of the triangle(centimetres): 5\n",
      "Enter the height of the triangle(centimetre): 7\n",
      "Area of Triangle is: 17.5 sq.cm\n"
     ]
    }
   ],
   "source": [
    "base=float(input(\"Enter the base of the triangle(centimetres): \"))\n",
    "height=float(input(\"Enter the height of the triangle(centimetre): \"))\n",
    "area=(height*base)/2\n",
    "print(\"Area of Triangle is:\",area,\"sq.cm\")"
   ]
  },
  {
   "cell_type": "raw",
   "id": "aa0c977b",
   "metadata": {},
   "source": [
    "4. Write a Python program to swap two variables?"
   ]
  },
  {
   "cell_type": "code",
   "execution_count": 16,
   "id": "fe8e819a",
   "metadata": {},
   "outputs": [
    {
     "name": "stdout",
     "output_type": "stream",
     "text": [
      "Enter value for a: 45\n",
      "Enter value for b: 78\n",
      "Values before swapping are a: 45 b: 78\n",
      "Values after swapping are a: 78 b: 45\n"
     ]
    }
   ],
   "source": [
    "a=int(input(\"Enter value for a: \"))\n",
    "b=int(input(\"Enter value for b: \"))\n",
    "print(\"Values before swapping are a:\",a,\"b:\",b)\n",
    "a=a+b\n",
    "b=a-b\n",
    "a=a-b\n",
    "print(\"Values after swapping are a:\",a,\"b:\",b)"
   ]
  },
  {
   "cell_type": "raw",
   "id": "7918195d",
   "metadata": {},
   "source": [
    "5.Write a Python program to generate a random number?"
   ]
  },
  {
   "cell_type": "code",
   "execution_count": 48,
   "id": "103e2c03",
   "metadata": {},
   "outputs": [
    {
     "name": "stdout",
     "output_type": "stream",
     "text": [
      "869\n"
     ]
    }
   ],
   "source": [
    "import random\n",
    "print(random.randint(0,1000))"
   ]
  },
  {
   "cell_type": "code",
   "execution_count": null,
   "id": "620837ec",
   "metadata": {},
   "outputs": [],
   "source": []
  }
 ],
 "metadata": {
  "kernelspec": {
   "display_name": "Python 3 (ipykernel)",
   "language": "python",
   "name": "python3"
  },
  "language_info": {
   "codemirror_mode": {
    "name": "ipython",
    "version": 3
   },
   "file_extension": ".py",
   "mimetype": "text/x-python",
   "name": "python",
   "nbconvert_exporter": "python",
   "pygments_lexer": "ipython3",
   "version": "3.9.12"
  }
 },
 "nbformat": 4,
 "nbformat_minor": 5
}
