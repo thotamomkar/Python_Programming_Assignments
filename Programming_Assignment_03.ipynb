{
 "cells": [
  {
   "cell_type": "markdown",
   "id": "1fc72ca5",
   "metadata": {},
   "source": [
    "1.Write a Python Program to Check if a Number is Positive, Negative or Zero?"
   ]
  },
  {
   "cell_type": "code",
   "execution_count": null,
   "id": "1b1a585a",
   "metadata": {},
   "outputs": [],
   "source": [
    "n=int(input(\"Enter a number:\"))\n",
    "if n<0:\n",
    "    print(n,\"is a negative number.\")\n",
    "elif n>0 :\n",
    "    print(n,\"is a positive number.\")\n",
    "else:\n",
    "    print(\"Number is zero:\",n)"
   ]
  },
  {
   "cell_type": "markdown",
   "id": "22827163",
   "metadata": {},
   "source": [
    "2.Write a Python Program to Check if a Number is Odd or Even?"
   ]
  },
  {
   "cell_type": "code",
   "execution_count": null,
   "id": "882d782b",
   "metadata": {},
   "outputs": [],
   "source": [
    "n=int(input(\"Enter a number:\"))\n",
    "if n%2==0:\n",
    "    print(n,\"is a even number.\")\n",
    "else:\n",
    "    print(n,\"is an odd number.\")"
   ]
  },
  {
   "cell_type": "markdown",
   "id": "c257f5ee",
   "metadata": {},
   "source": [
    "3.Write a Python Program to Check Leap Year?"
   ]
  },
  {
   "cell_type": "code",
   "execution_count": null,
   "id": "17af7399",
   "metadata": {},
   "outputs": [],
   "source": [
    "n=int(input(\"Enter a Year:\"))\n",
    "if n%4==0:\n",
    "    print(n,\"is a leap year.\")\n",
    "else:\n",
    "    print(n,\"is a non-leap year.\")"
   ]
  },
  {
   "cell_type": "markdown",
   "id": "ce13a6d5",
   "metadata": {},
   "source": [
    "4.Write a Python Program to Check Prime Number?"
   ]
  },
  {
   "cell_type": "code",
   "execution_count": null,
   "id": "8f8bf1dc",
   "metadata": {},
   "outputs": [],
   "source": [
    "n=int(input(\"Enter a number:\"))\n",
    "if n==0 or n==1:\n",
    "    print(\"Number is not Prime\")\n",
    "flag=0\n",
    "for i in range(2,n):\n",
    "    if n%i==0:\n",
    "        flag=1\n",
    "if flag!=0:\n",
    "    print(str(n)+\" is not a prime number.\")\n",
    "else:\n",
    "    print(str(n)+\" is a prime number.\")"
   ]
  },
  {
   "cell_type": "markdown",
   "id": "ebc203e9",
   "metadata": {},
   "source": [
    "5.Write a Python Program to Print all Prime Numbers in an Interval of 1-10000?"
   ]
  },
  {
   "cell_type": "code",
   "execution_count": null,
   "id": "e26549a2",
   "metadata": {},
   "outputs": [],
   "source": [
    "for n in range(2,10000):\n",
    "    flag=0\n",
    "    for i in range(2,n):\n",
    "        if n%i==0:\n",
    "            flag=1\n",
    "    if flag==0:\n",
    "        print(n,end=\", \")"
   ]
  }
 ],
 "metadata": {
  "kernelspec": {
   "display_name": "Python 3 (ipykernel)",
   "language": "python",
   "name": "python3"
  },
  "language_info": {
   "codemirror_mode": {
    "name": "ipython",
    "version": 3
   },
   "file_extension": ".py",
   "mimetype": "text/x-python",
   "name": "python",
   "nbconvert_exporter": "python",
   "pygments_lexer": "ipython3",
   "version": "3.9.12"
  }
 },
 "nbformat": 4,
 "nbformat_minor": 5
}
